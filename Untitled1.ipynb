{
  "nbformat": 4,
  "nbformat_minor": 0,
  "metadata": {
    "colab": {
      "provenance": [],
      "authorship_tag": "ABX9TyOONkKOo0iMQRFQgsEZIoK9",
      "include_colab_link": true
    },
    "kernelspec": {
      "name": "python3",
      "display_name": "Python 3"
    },
    "language_info": {
      "name": "python"
    }
  },
  "cells": [
    {
      "cell_type": "markdown",
      "metadata": {
        "id": "view-in-github",
        "colab_type": "text"
      },
      "source": [
        "<a href=\"https://colab.research.google.com/github/leelu21427/Numpy-basics/blob/main/Untitled1.ipynb\" target=\"_parent\"><img src=\"https://colab.research.google.com/assets/colab-badge.svg\" alt=\"Open In Colab\"/></a>"
      ]
    },
    {
      "cell_type": "code",
      "execution_count": 2,
      "metadata": {
        "colab": {
          "base_uri": "https://localhost:8080/"
        },
        "id": "WPDv9pVVFgLC",
        "outputId": "486c9613-5f9d-49e0-d29e-641261febc36"
      },
      "outputs": [
        {
          "output_type": "stream",
          "name": "stdout",
          "text": [
            "[NbConvertApp] Converting notebook /content/Implementing_Linear_Regression_from_scratch_in_Python.ipynb.txt to html\n",
            "[NbConvertApp] Writing 319737 bytes to /content/Implementing_Linear_Regression_from_scratch_in_Python.ipynb.html\n"
          ]
        },
        {
          "output_type": "execute_result",
          "data": {
            "text/plain": []
          },
          "metadata": {},
          "execution_count": 2
        }
      ],
      "source": [
        "%%shell\n",
        "jupyter nbconvert --to html /content/Implementing_Linear_Regression_from_scratch_in_Python.ipynb.txt"
      ]
    },
    {
      "cell_type": "code",
      "source": [
        "%%shell\n",
        "jupyter nbconvert --to html /content/Building_Linear_Regression_from_scratch_in_Python.ipynb.txt"
      ],
      "metadata": {
        "colab": {
          "base_uri": "https://localhost:8080/"
        },
        "id": "MYxvxZsTHEKo",
        "outputId": "7a0af9fb-ba1c-43e2-da86-2333a8219b4d"
      },
      "execution_count": 3,
      "outputs": [
        {
          "output_type": "stream",
          "name": "stdout",
          "text": [
            "[NbConvertApp] Converting notebook /content/Building_Linear_Regression_from_scratch_in_Python.ipynb.txt to html\n",
            "[NbConvertApp] Writing 310562 bytes to /content/Building_Linear_Regression_from_scratch_in_Python.ipynb.html\n"
          ]
        },
        {
          "output_type": "execute_result",
          "data": {
            "text/plain": []
          },
          "metadata": {},
          "execution_count": 3
        }
      ]
    }
  ]
}